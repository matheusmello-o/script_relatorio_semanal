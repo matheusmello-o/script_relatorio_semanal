{
 "cells": [
  {
   "cell_type": "code",
   "execution_count": 20,
   "metadata": {},
   "outputs": [
    {
     "name": "stdout",
     "output_type": "stream",
     "text": [
      "\n",
      "\n",
      "Aqui será feito a extracao do relatório semanal.\n",
      "Por favor, digite a data conforme a o modelo a seguir de ano, mês e dia:--> 20210108\n",
      "E a semana conforme o exemplo a seguir:--> Semana 2\n",
      "\n",
      "Digite a data que inicia a semana: 20201228\n",
      "Digite a data que encerra a semana: 20210103\n",
      "Qual seria a semana: Semana 1\n"
     ]
    },
    {
     "name": "stderr",
     "output_type": "stream",
     "text": [
      "/usr/local/lib/python3.7/site-packages/ipykernel_launcher.py:53: FutureWarning: Indexing with multiple keys (implicitly converted to a tuple of keys) will be deprecated, use a list instead.\n"
     ]
    }
   ],
   "source": [
    "import pandas as pd\n",
    "from glob import glob\n",
    "\n",
    "# Script instructions\n",
    "print('\\n\\nAqui será feito a extracao do relatório semanal.')\n",
    "print('Por favor, digite a data conforme a o modelo a seguir de ano, mês e dia:--> 20210108')\n",
    "print('E a semana conforme o exemplo a seguir:--> Semana 2\\n')\n",
    "\n",
    "date_min = int(input('Digite a data que inicia a semana: '))\n",
    "date_max = int(input('Digite a data que encerra a semana: '))\n",
    "week_number = input('Qual seria a semana: ')\n",
    "\n",
    "# Catching all files in the path. After that, all sort all the files in a list\n",
    "files = sorted(glob(r'../concat_report/base/*.csv'))\n",
    "\n",
    "# Separating them in lf and assinante and anonimo\n",
    "files_logados_free = []\n",
    "files_assinantes = []\n",
    "\n",
    "for file in files:\n",
    "    if 'Free' in file:\n",
    "        files_logados_free.append(file)\n",
    "    else:\n",
    "        files_assinantes.append(file)\n",
    "        \n",
    "# Reading all the files and concating them in a dataframe\n",
    "df_a = pd.concat(pd.read_csv(file, engine = 'python') for file in files_assinantes)\n",
    "df_lf = pd.concat(pd.read_csv(file, engine = 'python') for file in files_logados_free)\n",
    "\n",
    "df_a['tipo_de_consumo'] = ['Aberto' if tipo_conteudo.lower() == 'aberto' else 'Fechado' for tipo_conteudo in df_a['Video - Fechado/Aberto']]\n",
    "\n",
    "df_lf['tipo_de_consumo'] = ['Aberto' if tipo_conteudo.lower() == 'aberto' else 'Logado Free' for tipo_conteudo in df_lf['Video - Fechado/Aberto']]\n",
    "\n",
    "# Creating the main dataframe\n",
    "df = pd.concat([df_a, df_lf])\n",
    "df['semana'] = week_number\n",
    "# Filtering the data\n",
    "week_filter = (df['Data'] >= date_min) & (df['Data'] <= date_max)\n",
    "df = df.loc[week_filter]\n",
    "\n",
    "df['horas_consumidas'] = df['Video Playtime'] / 3600\n",
    "\n",
    "# Creating the column to classify the type of consumption\n",
    "df['Tipo de Consumo'] = \\\n",
    "['Live' if tipo_video.lower() == 'live' else\\\n",
    "'VOD Aberto' if tipo_consumo == 'Aberto' else\\\n",
    "'VOD Fechado' if tipo_consumo == 'Fechado' else\\\n",
    "'VOD Logado Free' if tipo_consumo == 'Logado Free' else\\\n",
    "'null'\\\n",
    "for tipo_video, tipo_consumo in zip(df['Video - Tipo de video'], df['tipo_de_consumo'])]\n",
    "\n",
    "df_final = pd.DataFrame(df.groupby(['Video - ID do programa', 'Tipo de Consumo', 'semana'])['horas_consumidas', 'Video Start'].sum()).reset_index()\n",
    "\n",
    "# Adding a start and end date to the report.\n",
    "def date_format(date):\n",
    "    date = str(date)\n",
    "    return date[-2:] + '/' + date[4:6] + '/' + date[:4]\n",
    "\n",
    "df_final['comeco_fim_semana'] = date_format(date_min) + ' - ' + date_format(date_max)\n",
    "\n",
    "\n",
    "df_name = '../base_semanal/' + week_number + '.csv'\n",
    " \n",
    "#df_final.to_csv(df_name)\n",
    "\n",
    "\n"
   ]
  },
  {
   "cell_type": "code",
   "execution_count": 2,
   "metadata": {},
   "outputs": [
    {
     "data": {
      "text/plain": [
       "['../concat_report/base/202102 202103 - Relatório Diário de Consumo - Logado Free 0201 - 0309.csv',\n",
       " '../concat_report/base/202104 - Relatório Diário de Consumo - Assinante e Anonimo d6.csv',\n",
       " '../concat_report/base/202102 202103 - Relatório Diário de Consumo - Assinante e Anonimo 0201 - 0309.csv',\n",
       " '../concat_report/base/202103 - Relatório Diário de Consumo - Assinante e Anonimo - d28.csv',\n",
       " '../concat_report/base/202103 - Relatório Diário de Consumo - Logado Free - d10 - d23.csv',\n",
       " '../concat_report/base/202103 - Relatório Diário de Consumo - Assinante e Anonimo - d29.csv',\n",
       " '../concat_report/base/202104 - Relatório Diário de Consumo - Assinante e Anonimo d5.csv',\n",
       " '../concat_report/base/202103 - Relatório Diário de Consumo - Logado Free - d24.csv',\n",
       " '../concat_report/base/202103 - Relatório Diário de Consumo - Logado Free - d30.csv',\n",
       " '../concat_report/base/202104 - Relatório Diário de Consumo - Assinante e Anonimo.csv',\n",
       " '../concat_report/base/202103 - Relatório Diário de Consumo - Logado Free - d31.csv',\n",
       " '../concat_report/base/202103 - Relatório Diário de Consumo - Logado Free - d25.csv',\n",
       " '../concat_report/base/202103 - Relatório Diário de Consumo - Assinante e Anonimo - d26 d27.csv',\n",
       " '../concat_report/base/202101 - Relatório Diário de Consumo - Logado Free.csv',\n",
       " '../concat_report/base/202104 - Relatório Diário de Consumo - Logado Free.csv',\n",
       " '../concat_report/base/202103 - Relatório Diário de Consumo - Logado Free - d26 d27.csv',\n",
       " '../concat_report/base/202012 - Relatório Diário de Consumo - Assinante e Anonimo.csv',\n",
       " '../concat_report/base/202103 - Relatório Diário de Consumo - Logado Free - d28.csv',\n",
       " '../concat_report/base/202104 - Relatório Diário de Consumo - Logado Free d5.csv',\n",
       " '../concat_report/base/202103 - Relatório Diário de Consumo - Assinante e Anonimo - d10 - d23.csv',\n",
       " '../concat_report/base/202103 - Relatório Diário de Consumo - Logado Free - d29.csv',\n",
       " '../concat_report/base/202104 - Relatório Diário de Consumo - Logado Free d6.csv',\n",
       " '../concat_report/base/202101 - Relatório Diário de Consumo - Assinante e Anonimo.csv',\n",
       " '../concat_report/base/202103 - Relatório Diário de Consumo - Assinante e Anonimo - d24.csv',\n",
       " '../concat_report/base/202103 - Relatório Diário de Consumo - Assinante e Anonimo - d30.csv',\n",
       " '../concat_report/base/202012 - Relatório Diário de Consumo - Logado Free.csv',\n",
       " '../concat_report/base/202103 - Relatório Diário de Consumo - Assinante e Anonimo - d31.csv',\n",
       " '../concat_report/base/202103 - Relatório Diário de Consumo - Assinante e Anonimo - d25.csv']"
      ]
     },
     "execution_count": 2,
     "metadata": {},
     "output_type": "execute_result"
    }
   ],
   "source": [
    "import pandas as pd\n",
    "from glob import glob\n",
    "\n",
    "files = glob(r'../concat_report/base/*.csv')\n",
    "files"
   ]
  },
  {
   "cell_type": "code",
   "execution_count": 3,
   "metadata": {},
   "outputs": [],
   "source": [
    "lf = []\n",
    "aa = []\n",
    "\n",
    "for file in files:\n",
    "    if 'Free' in file:\n",
    "        lf.append(file)\n",
    "    else:\n",
    "        aa.append(file)"
   ]
  },
  {
   "cell_type": "code",
   "execution_count": 4,
   "metadata": {},
   "outputs": [
    {
     "data": {
      "text/plain": [
       "['../concat_report/base/202102 202103 - Relatório Diário de Consumo - Logado Free 0201 - 0309.csv',\n",
       " '../concat_report/base/202103 - Relatório Diário de Consumo - Logado Free - d10 - d23.csv',\n",
       " '../concat_report/base/202103 - Relatório Diário de Consumo - Logado Free - d24.csv',\n",
       " '../concat_report/base/202103 - Relatório Diário de Consumo - Logado Free - d30.csv',\n",
       " '../concat_report/base/202103 - Relatório Diário de Consumo - Logado Free - d31.csv',\n",
       " '../concat_report/base/202103 - Relatório Diário de Consumo - Logado Free - d25.csv',\n",
       " '../concat_report/base/202101 - Relatório Diário de Consumo - Logado Free.csv',\n",
       " '../concat_report/base/202104 - Relatório Diário de Consumo - Logado Free.csv',\n",
       " '../concat_report/base/202103 - Relatório Diário de Consumo - Logado Free - d26 d27.csv',\n",
       " '../concat_report/base/202103 - Relatório Diário de Consumo - Logado Free - d28.csv',\n",
       " '../concat_report/base/202104 - Relatório Diário de Consumo - Logado Free d5.csv',\n",
       " '../concat_report/base/202103 - Relatório Diário de Consumo - Logado Free - d29.csv',\n",
       " '../concat_report/base/202104 - Relatório Diário de Consumo - Logado Free d6.csv',\n",
       " '../concat_report/base/202012 - Relatório Diário de Consumo - Logado Free.csv']"
      ]
     },
     "execution_count": 4,
     "metadata": {},
     "output_type": "execute_result"
    }
   ],
   "source": [
    "lf"
   ]
  },
  {
   "cell_type": "code",
   "execution_count": 5,
   "metadata": {},
   "outputs": [
    {
     "data": {
      "text/plain": [
       "['../concat_report/base/202104 - Relatório Diário de Consumo - Assinante e Anonimo d6.csv',\n",
       " '../concat_report/base/202102 202103 - Relatório Diário de Consumo - Assinante e Anonimo 0201 - 0309.csv',\n",
       " '../concat_report/base/202103 - Relatório Diário de Consumo - Assinante e Anonimo - d28.csv',\n",
       " '../concat_report/base/202103 - Relatório Diário de Consumo - Assinante e Anonimo - d29.csv',\n",
       " '../concat_report/base/202104 - Relatório Diário de Consumo - Assinante e Anonimo d5.csv',\n",
       " '../concat_report/base/202104 - Relatório Diário de Consumo - Assinante e Anonimo.csv',\n",
       " '../concat_report/base/202103 - Relatório Diário de Consumo - Assinante e Anonimo - d26 d27.csv',\n",
       " '../concat_report/base/202012 - Relatório Diário de Consumo - Assinante e Anonimo.csv',\n",
       " '../concat_report/base/202103 - Relatório Diário de Consumo - Assinante e Anonimo - d10 - d23.csv',\n",
       " '../concat_report/base/202101 - Relatório Diário de Consumo - Assinante e Anonimo.csv',\n",
       " '../concat_report/base/202103 - Relatório Diário de Consumo - Assinante e Anonimo - d24.csv',\n",
       " '../concat_report/base/202103 - Relatório Diário de Consumo - Assinante e Anonimo - d30.csv',\n",
       " '../concat_report/base/202103 - Relatório Diário de Consumo - Assinante e Anonimo - d31.csv',\n",
       " '../concat_report/base/202103 - Relatório Diário de Consumo - Assinante e Anonimo - d25.csv']"
      ]
     },
     "execution_count": 5,
     "metadata": {},
     "output_type": "execute_result"
    }
   ],
   "source": [
    "aa"
   ]
  },
  {
   "cell_type": "code",
   "execution_count": 6,
   "metadata": {},
   "outputs": [
    {
     "name": "stdout",
     "output_type": "stream",
     "text": [
      "28\n",
      "14\n",
      "14\n"
     ]
    }
   ],
   "source": []
  },
  {
   "cell_type": "code",
   "execution_count": 9,
   "metadata": {},
   "outputs": [
    {
     "data": {
      "text/html": [
       "<div>\n",
       "<style scoped>\n",
       "    .dataframe tbody tr th:only-of-type {\n",
       "        vertical-align: middle;\n",
       "    }\n",
       "\n",
       "    .dataframe tbody tr th {\n",
       "        vertical-align: top;\n",
       "    }\n",
       "\n",
       "    .dataframe thead th {\n",
       "        text-align: right;\n",
       "    }\n",
       "</style>\n",
       "<table border=\"1\" class=\"dataframe\">\n",
       "  <thead>\n",
       "    <tr style=\"text-align: right;\">\n",
       "      <th></th>\n",
       "      <th>Video - ID do programa</th>\n",
       "      <th>Tipo de Consumo</th>\n",
       "      <th>semana</th>\n",
       "      <th>horas_consumidas</th>\n",
       "      <th>Video Start</th>\n",
       "      <th>comeco_fim_semana</th>\n",
       "    </tr>\n",
       "  </thead>\n",
       "  <tbody>\n",
       "    <tr>\n",
       "      <th>0</th>\n",
       "      <td>810</td>\n",
       "      <td>VOD Aberto</td>\n",
       "      <td>Semana 1</td>\n",
       "      <td>1791.691944</td>\n",
       "      <td>104113</td>\n",
       "      <td>1970-01-01 00:00:00.020201228-1970-01-01 00:00...</td>\n",
       "    </tr>\n",
       "    <tr>\n",
       "      <th>1</th>\n",
       "      <td>810</td>\n",
       "      <td>VOD Logado Free</td>\n",
       "      <td>Semana 1</td>\n",
       "      <td>7575.233611</td>\n",
       "      <td>19889</td>\n",
       "      <td>1970-01-01 00:00:00.020201228-1970-01-01 00:00...</td>\n",
       "    </tr>\n",
       "    <tr>\n",
       "      <th>2</th>\n",
       "      <td>811</td>\n",
       "      <td>VOD Aberto</td>\n",
       "      <td>Semana 1</td>\n",
       "      <td>764.870556</td>\n",
       "      <td>26767</td>\n",
       "      <td>1970-01-01 00:00:00.020201228-1970-01-01 00:00...</td>\n",
       "    </tr>\n",
       "    <tr>\n",
       "      <th>3</th>\n",
       "      <td>811</td>\n",
       "      <td>VOD Logado Free</td>\n",
       "      <td>Semana 1</td>\n",
       "      <td>1758.276389</td>\n",
       "      <td>6009</td>\n",
       "      <td>1970-01-01 00:00:00.020201228-1970-01-01 00:00...</td>\n",
       "    </tr>\n",
       "    <tr>\n",
       "      <th>4</th>\n",
       "      <td>812</td>\n",
       "      <td>VOD Aberto</td>\n",
       "      <td>Semana 1</td>\n",
       "      <td>2682.843333</td>\n",
       "      <td>82671</td>\n",
       "      <td>1970-01-01 00:00:00.020201228-1970-01-01 00:00...</td>\n",
       "    </tr>\n",
       "    <tr>\n",
       "      <th>...</th>\n",
       "      <td>...</td>\n",
       "      <td>...</td>\n",
       "      <td>...</td>\n",
       "      <td>...</td>\n",
       "      <td>...</td>\n",
       "      <td>...</td>\n",
       "    </tr>\n",
       "    <tr>\n",
       "      <th>2256</th>\n",
       "      <td>13350</td>\n",
       "      <td>VOD Logado Free</td>\n",
       "      <td>Semana 1</td>\n",
       "      <td>59.289167</td>\n",
       "      <td>320</td>\n",
       "      <td>1970-01-01 00:00:00.020201228-1970-01-01 00:00...</td>\n",
       "    </tr>\n",
       "    <tr>\n",
       "      <th>2257</th>\n",
       "      <td>13352</td>\n",
       "      <td>VOD Aberto</td>\n",
       "      <td>Semana 1</td>\n",
       "      <td>17.306389</td>\n",
       "      <td>112</td>\n",
       "      <td>1970-01-01 00:00:00.020201228-1970-01-01 00:00...</td>\n",
       "    </tr>\n",
       "    <tr>\n",
       "      <th>2258</th>\n",
       "      <td>13360</td>\n",
       "      <td>VOD Aberto</td>\n",
       "      <td>Semana 1</td>\n",
       "      <td>202.889167</td>\n",
       "      <td>9416</td>\n",
       "      <td>1970-01-01 00:00:00.020201228-1970-01-01 00:00...</td>\n",
       "    </tr>\n",
       "    <tr>\n",
       "      <th>2259</th>\n",
       "      <td>13360</td>\n",
       "      <td>VOD Fechado</td>\n",
       "      <td>Semana 1</td>\n",
       "      <td>165156.707500</td>\n",
       "      <td>423474</td>\n",
       "      <td>1970-01-01 00:00:00.020201228-1970-01-01 00:00...</td>\n",
       "    </tr>\n",
       "    <tr>\n",
       "      <th>2260</th>\n",
       "      <td>13361</td>\n",
       "      <td>VOD Fechado</td>\n",
       "      <td>Semana 1</td>\n",
       "      <td>48714.881389</td>\n",
       "      <td>119189</td>\n",
       "      <td>1970-01-01 00:00:00.020201228-1970-01-01 00:00...</td>\n",
       "    </tr>\n",
       "  </tbody>\n",
       "</table>\n",
       "<p>2261 rows × 6 columns</p>\n",
       "</div>"
      ],
      "text/plain": [
       "      Video - ID do programa  Tipo de Consumo    semana  horas_consumidas  \\\n",
       "0                        810       VOD Aberto  Semana 1       1791.691944   \n",
       "1                        810  VOD Logado Free  Semana 1       7575.233611   \n",
       "2                        811       VOD Aberto  Semana 1        764.870556   \n",
       "3                        811  VOD Logado Free  Semana 1       1758.276389   \n",
       "4                        812       VOD Aberto  Semana 1       2682.843333   \n",
       "...                      ...              ...       ...               ...   \n",
       "2256                   13350  VOD Logado Free  Semana 1         59.289167   \n",
       "2257                   13352       VOD Aberto  Semana 1         17.306389   \n",
       "2258                   13360       VOD Aberto  Semana 1        202.889167   \n",
       "2259                   13360      VOD Fechado  Semana 1     165156.707500   \n",
       "2260                   13361      VOD Fechado  Semana 1      48714.881389   \n",
       "\n",
       "      Video Start                                  comeco_fim_semana  \n",
       "0          104113  1970-01-01 00:00:00.020201228-1970-01-01 00:00...  \n",
       "1           19889  1970-01-01 00:00:00.020201228-1970-01-01 00:00...  \n",
       "2           26767  1970-01-01 00:00:00.020201228-1970-01-01 00:00...  \n",
       "3            6009  1970-01-01 00:00:00.020201228-1970-01-01 00:00...  \n",
       "4           82671  1970-01-01 00:00:00.020201228-1970-01-01 00:00...  \n",
       "...           ...                                                ...  \n",
       "2256          320  1970-01-01 00:00:00.020201228-1970-01-01 00:00...  \n",
       "2257          112  1970-01-01 00:00:00.020201228-1970-01-01 00:00...  \n",
       "2258         9416  1970-01-01 00:00:00.020201228-1970-01-01 00:00...  \n",
       "2259       423474  1970-01-01 00:00:00.020201228-1970-01-01 00:00...  \n",
       "2260       119189  1970-01-01 00:00:00.020201228-1970-01-01 00:00...  \n",
       "\n",
       "[2261 rows x 6 columns]"
      ]
     },
     "execution_count": 9,
     "metadata": {},
     "output_type": "execute_result"
    }
   ],
   "source": [
    "df_final"
   ]
  },
  {
   "cell_type": "code",
   "execution_count": 10,
   "metadata": {},
   "outputs": [
    {
     "data": {
      "text/plain": [
       "22168462.645277776"
      ]
     },
     "execution_count": 10,
     "metadata": {},
     "output_type": "execute_result"
    }
   ],
   "source": [
    "df_final['horas_consumidas'].sum()"
   ]
  },
  {
   "cell_type": "code",
   "execution_count": 22,
   "metadata": {},
   "outputs": [
    {
     "name": "stderr",
     "output_type": "stream",
     "text": [
      "/usr/local/lib/python3.7/site-packages/ipykernel_launcher.py:2: FutureWarning: Indexing with multiple keys (implicitly converted to a tuple of keys) will be deprecated, use a list instead.\n",
      "  \n"
     ]
    },
    {
     "data": {
      "text/html": [
       "<div>\n",
       "<style scoped>\n",
       "    .dataframe tbody tr th:only-of-type {\n",
       "        vertical-align: middle;\n",
       "    }\n",
       "\n",
       "    .dataframe tbody tr th {\n",
       "        vertical-align: top;\n",
       "    }\n",
       "\n",
       "    .dataframe thead th {\n",
       "        text-align: right;\n",
       "    }\n",
       "</style>\n",
       "<table border=\"1\" class=\"dataframe\">\n",
       "  <thead>\n",
       "    <tr style=\"text-align: right;\">\n",
       "      <th></th>\n",
       "      <th>horas_consumidas</th>\n",
       "      <th>Video Start</th>\n",
       "    </tr>\n",
       "    <tr>\n",
       "      <th>Tipo de Consumo</th>\n",
       "      <th></th>\n",
       "      <th></th>\n",
       "    </tr>\n",
       "  </thead>\n",
       "  <tbody>\n",
       "    <tr>\n",
       "      <th>Live</th>\n",
       "      <td>5,162,487.72</td>\n",
       "      <td>7831244</td>\n",
       "    </tr>\n",
       "    <tr>\n",
       "      <th>VOD Aberto</th>\n",
       "      <td>225,590.83</td>\n",
       "      <td>5834405</td>\n",
       "    </tr>\n",
       "    <tr>\n",
       "      <th>VOD Fechado</th>\n",
       "      <td>15,676,323.98</td>\n",
       "      <td>39799213</td>\n",
       "    </tr>\n",
       "    <tr>\n",
       "      <th>VOD Logado Free</th>\n",
       "      <td>1,104,060.12</td>\n",
       "      <td>3529970</td>\n",
       "    </tr>\n",
       "  </tbody>\n",
       "</table>\n",
       "</div>"
      ],
      "text/plain": [
       "                 horas_consumidas  Video Start\n",
       "Tipo de Consumo                               \n",
       "Live                 5,162,487.72      7831244\n",
       "VOD Aberto             225,590.83      5834405\n",
       "VOD Fechado         15,676,323.98     39799213\n",
       "VOD Logado Free      1,104,060.12      3529970"
      ]
     },
     "execution_count": 22,
     "metadata": {},
     "output_type": "execute_result"
    }
   ],
   "source": [
    "pd.options.display.float_format = '{:,.2f}'.format\n",
    "df_final.groupby('Tipo de Consumo')['horas_consumidas', 'Video Start'].sum()"
   ]
  },
  {
   "cell_type": "code",
   "execution_count": 13,
   "metadata": {},
   "outputs": [
    {
     "data": {
      "text/plain": [
       "20201228"
      ]
     },
     "execution_count": 13,
     "metadata": {},
     "output_type": "execute_result"
    }
   ],
   "source": [
    "date_min"
   ]
  },
  {
   "cell_type": "code",
   "execution_count": 16,
   "metadata": {},
   "outputs": [
    {
     "data": {
      "text/plain": [
       "'28'"
      ]
     },
     "execution_count": 16,
     "metadata": {},
     "output_type": "execute_result"
    }
   ],
   "source": [
    "\n",
    "def date_format(date):\n",
    "    return date[-2:] + '/' + date[4:6] + '/' + date[:4]"
   ]
  },
  {
   "cell_type": "code",
   "execution_count": 19,
   "metadata": {},
   "outputs": [
    {
     "data": {
      "text/plain": [
       "'28/12/2020'"
      ]
     },
     "execution_count": 19,
     "metadata": {},
     "output_type": "execute_result"
    }
   ],
   "source": [
    "dmin = str(date_min)\n",
    "dmax = str(date_max)\n",
    "\n",
    "date[-2:] + '/' + date[4:6] + '/' + date[:4]\n",
    "\n"
   ]
  },
  {
   "cell_type": "code",
   "execution_count": 21,
   "metadata": {},
   "outputs": [
    {
     "data": {
      "text/html": [
       "<div>\n",
       "<style scoped>\n",
       "    .dataframe tbody tr th:only-of-type {\n",
       "        vertical-align: middle;\n",
       "    }\n",
       "\n",
       "    .dataframe tbody tr th {\n",
       "        vertical-align: top;\n",
       "    }\n",
       "\n",
       "    .dataframe thead th {\n",
       "        text-align: right;\n",
       "    }\n",
       "</style>\n",
       "<table border=\"1\" class=\"dataframe\">\n",
       "  <thead>\n",
       "    <tr style=\"text-align: right;\">\n",
       "      <th></th>\n",
       "      <th>Video - ID do programa</th>\n",
       "      <th>Tipo de Consumo</th>\n",
       "      <th>semana</th>\n",
       "      <th>horas_consumidas</th>\n",
       "      <th>Video Start</th>\n",
       "      <th>comeco_fim_semana</th>\n",
       "    </tr>\n",
       "  </thead>\n",
       "  <tbody>\n",
       "    <tr>\n",
       "      <th>0</th>\n",
       "      <td>810</td>\n",
       "      <td>VOD Aberto</td>\n",
       "      <td>Semana 1</td>\n",
       "      <td>1,791.69</td>\n",
       "      <td>104113</td>\n",
       "      <td>28/12/2020 - 03/01/2021</td>\n",
       "    </tr>\n",
       "    <tr>\n",
       "      <th>1</th>\n",
       "      <td>810</td>\n",
       "      <td>VOD Logado Free</td>\n",
       "      <td>Semana 1</td>\n",
       "      <td>7,575.23</td>\n",
       "      <td>19889</td>\n",
       "      <td>28/12/2020 - 03/01/2021</td>\n",
       "    </tr>\n",
       "    <tr>\n",
       "      <th>2</th>\n",
       "      <td>811</td>\n",
       "      <td>VOD Aberto</td>\n",
       "      <td>Semana 1</td>\n",
       "      <td>764.87</td>\n",
       "      <td>26767</td>\n",
       "      <td>28/12/2020 - 03/01/2021</td>\n",
       "    </tr>\n",
       "    <tr>\n",
       "      <th>3</th>\n",
       "      <td>811</td>\n",
       "      <td>VOD Logado Free</td>\n",
       "      <td>Semana 1</td>\n",
       "      <td>1,758.28</td>\n",
       "      <td>6009</td>\n",
       "      <td>28/12/2020 - 03/01/2021</td>\n",
       "    </tr>\n",
       "    <tr>\n",
       "      <th>4</th>\n",
       "      <td>812</td>\n",
       "      <td>VOD Aberto</td>\n",
       "      <td>Semana 1</td>\n",
       "      <td>2,682.84</td>\n",
       "      <td>82671</td>\n",
       "      <td>28/12/2020 - 03/01/2021</td>\n",
       "    </tr>\n",
       "    <tr>\n",
       "      <th>...</th>\n",
       "      <td>...</td>\n",
       "      <td>...</td>\n",
       "      <td>...</td>\n",
       "      <td>...</td>\n",
       "      <td>...</td>\n",
       "      <td>...</td>\n",
       "    </tr>\n",
       "    <tr>\n",
       "      <th>2256</th>\n",
       "      <td>13350</td>\n",
       "      <td>VOD Logado Free</td>\n",
       "      <td>Semana 1</td>\n",
       "      <td>59.29</td>\n",
       "      <td>320</td>\n",
       "      <td>28/12/2020 - 03/01/2021</td>\n",
       "    </tr>\n",
       "    <tr>\n",
       "      <th>2257</th>\n",
       "      <td>13352</td>\n",
       "      <td>VOD Aberto</td>\n",
       "      <td>Semana 1</td>\n",
       "      <td>17.31</td>\n",
       "      <td>112</td>\n",
       "      <td>28/12/2020 - 03/01/2021</td>\n",
       "    </tr>\n",
       "    <tr>\n",
       "      <th>2258</th>\n",
       "      <td>13360</td>\n",
       "      <td>VOD Aberto</td>\n",
       "      <td>Semana 1</td>\n",
       "      <td>202.89</td>\n",
       "      <td>9416</td>\n",
       "      <td>28/12/2020 - 03/01/2021</td>\n",
       "    </tr>\n",
       "    <tr>\n",
       "      <th>2259</th>\n",
       "      <td>13360</td>\n",
       "      <td>VOD Fechado</td>\n",
       "      <td>Semana 1</td>\n",
       "      <td>165,156.71</td>\n",
       "      <td>423474</td>\n",
       "      <td>28/12/2020 - 03/01/2021</td>\n",
       "    </tr>\n",
       "    <tr>\n",
       "      <th>2260</th>\n",
       "      <td>13361</td>\n",
       "      <td>VOD Fechado</td>\n",
       "      <td>Semana 1</td>\n",
       "      <td>48,714.88</td>\n",
       "      <td>119189</td>\n",
       "      <td>28/12/2020 - 03/01/2021</td>\n",
       "    </tr>\n",
       "  </tbody>\n",
       "</table>\n",
       "<p>2261 rows × 6 columns</p>\n",
       "</div>"
      ],
      "text/plain": [
       "      Video - ID do programa  Tipo de Consumo    semana  horas_consumidas  \\\n",
       "0                        810       VOD Aberto  Semana 1          1,791.69   \n",
       "1                        810  VOD Logado Free  Semana 1          7,575.23   \n",
       "2                        811       VOD Aberto  Semana 1            764.87   \n",
       "3                        811  VOD Logado Free  Semana 1          1,758.28   \n",
       "4                        812       VOD Aberto  Semana 1          2,682.84   \n",
       "...                      ...              ...       ...               ...   \n",
       "2256                   13350  VOD Logado Free  Semana 1             59.29   \n",
       "2257                   13352       VOD Aberto  Semana 1             17.31   \n",
       "2258                   13360       VOD Aberto  Semana 1            202.89   \n",
       "2259                   13360      VOD Fechado  Semana 1        165,156.71   \n",
       "2260                   13361      VOD Fechado  Semana 1         48,714.88   \n",
       "\n",
       "      Video Start        comeco_fim_semana  \n",
       "0          104113  28/12/2020 - 03/01/2021  \n",
       "1           19889  28/12/2020 - 03/01/2021  \n",
       "2           26767  28/12/2020 - 03/01/2021  \n",
       "3            6009  28/12/2020 - 03/01/2021  \n",
       "4           82671  28/12/2020 - 03/01/2021  \n",
       "...           ...                      ...  \n",
       "2256          320  28/12/2020 - 03/01/2021  \n",
       "2257          112  28/12/2020 - 03/01/2021  \n",
       "2258         9416  28/12/2020 - 03/01/2021  \n",
       "2259       423474  28/12/2020 - 03/01/2021  \n",
       "2260       119189  28/12/2020 - 03/01/2021  \n",
       "\n",
       "[2261 rows x 6 columns]"
      ]
     },
     "execution_count": 21,
     "metadata": {},
     "output_type": "execute_result"
    }
   ],
   "source": [
    "df_final"
   ]
  },
  {
   "cell_type": "code",
   "execution_count": null,
   "metadata": {},
   "outputs": [],
   "source": []
  }
 ],
 "metadata": {
  "kernelspec": {
   "display_name": "Python 3",
   "language": "python",
   "name": "python3"
  },
  "language_info": {
   "codemirror_mode": {
    "name": "ipython",
    "version": 3
   },
   "file_extension": ".py",
   "mimetype": "text/x-python",
   "name": "python",
   "nbconvert_exporter": "python",
   "pygments_lexer": "ipython3",
   "version": "3.7.4"
  }
 },
 "nbformat": 4,
 "nbformat_minor": 2
}

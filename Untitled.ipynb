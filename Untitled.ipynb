{
 "cells": [
  {
   "cell_type": "code",
   "execution_count": 24,
   "metadata": {},
   "outputs": [
    {
     "name": "stdout",
     "output_type": "stream",
     "text": [
      "\n",
      "\n",
      "Aqui será feito a extracao do relatório semanal.\n",
      "Por favor, digite a data conforme a o modelo a seguir de ano, mês e dia:--> 20210108\n",
      "E a semana conforme o exemplo a seguir:--> Semana 2\n",
      "\n",
      "Digite a data que inicia a semana: 20210215\n",
      "Digite a data que encerra a semana: 20210221\n",
      "Qual seria a semana: Semana 5\n"
     ]
    }
   ],
   "source": [
    "import pandas as pd\n",
    "from glob import glob\n",
    "\n",
    "# Script instructions\n",
    "print('\\n\\nAqui será feito a extracao do relatório semanal.')\n",
    "print('Por favor, digite a data conforme a o modelo a seguir de ano, mês e dia:--> 20210108')\n",
    "print('E a semana conforme o exemplo a seguir:--> Semana 2\\n')\n",
    "\n",
    "date_min = int(input('Digite a data que inicia a semana: '))\n",
    "date_max = int(input('Digite a data que encerra a semana: '))\n",
    "week_number = input('Qual seria a semana: ')\n",
    "\n",
    "# Catching all files in the path. After that, all sort all the files in a list\n",
    "files_assinantes = sorted(glob(r'../base_assinantes/*.csv'))\n",
    "files_logados_free = sorted(glob(r'../base_lf/*.csv'))\n",
    "\n",
    "# Reading all the files and concating them in a dataframe\n",
    "df_a = pd.concat(pd.read_csv(file, engine = 'python') for file in files_assinantes)\n",
    "df_lf = pd.concat(pd.read_csv(file, engine = 'python') for file in files_logados_free)\n",
    "\n",
    "df_a['tipo_de_consumo'] = ['Aberto' if tipo_conteudo.lower() == 'aberto' else 'Fechado' for tipo_conteudo in df_a['Video - Fechado/Aberto']]\n",
    "\n",
    "df_lf['tipo_de_consumo'] = ['Aberto' if tipo_conteudo.lower() == 'aberto' else 'Logado Free' for tipo_conteudo in df_lf['Video - Fechado/Aberto']]\n",
    "\n",
    "# Creating the main dataframe\n",
    "df = pd.concat([df_a, df_lf])\n",
    "df['semana'] = week_number\n",
    "# Filtering the data\n",
    "week_filter = (df['Data'] >= date_min) & (df['Data'] <= date_max)\n",
    "df = df.loc[week_filter]\n",
    "\n",
    "df['horas_consumidas'] = df['Video Playtime'] / 3600\n",
    "\n",
    "# Creating the column to classify the type of consumption\n",
    "df['Tipo de Consumo'] = \\\n",
    "['Live' if tipo_video.lower() == 'live' else\\\n",
    "'VOD Aberto' if tipo_consumo == 'Aberto' else\\\n",
    "'VOD Fechado' if tipo_consumo == 'Fechado' else\\\n",
    "'VOD Logado Free' if tipo_consumo == 'Logado Free' else\\\n",
    "'null'\\\n",
    "for tipo_video, tipo_consumo in zip(df['Video - Tipo de video'], df['tipo_de_consumo'])]\n",
    "\n",
    "\n",
    "df_final = pd.DataFrame(df.groupby(['Video - ID do programa', 'Tipo de Consumo', 'semana'])['horas_consumidas', 'Video Start'].sum()).reset_index()\n",
    "\n",
    "df_name = '../base_semanal/' + week_number + '.csv'\n",
    " \n",
    "df_final.to_csv(df_name)\n",
    "\n",
    "\n"
   ]
  },
  {
   "cell_type": "code",
   "execution_count": null,
   "metadata": {},
   "outputs": [],
   "source": []
  }
 ],
 "metadata": {
  "kernelspec": {
   "display_name": "Python 3",
   "language": "python",
   "name": "python3"
  },
  "language_info": {
   "codemirror_mode": {
    "name": "ipython",
    "version": 3
   },
   "file_extension": ".py",
   "mimetype": "text/x-python",
   "name": "python",
   "nbconvert_exporter": "python",
   "pygments_lexer": "ipython3",
   "version": "3.6.4"
  }
 },
 "nbformat": 4,
 "nbformat_minor": 2
}
